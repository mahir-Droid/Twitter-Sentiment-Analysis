{
 "cells": [
  {
   "cell_type": "code",
   "execution_count": 146,
   "metadata": {},
   "outputs": [],
   "source": [
    "import sklearn\n",
    "from sklearn.model_selection import train_test_split\n",
    "import numpy as np\n",
    "import pandas as pd"
   ]
  },
  {
   "cell_type": "code",
   "execution_count": 165,
   "metadata": {},
   "outputs": [],
   "source": [
    "df = pd.read_excel(\"Book1.xlsx\")\n"
   ]
  },
  {
   "cell_type": "code",
   "execution_count": 148,
   "metadata": {},
   "outputs": [
    {
     "data": {
      "text/html": [
       "<div>\n",
       "<style scoped>\n",
       "    .dataframe tbody tr th:only-of-type {\n",
       "        vertical-align: middle;\n",
       "    }\n",
       "\n",
       "    .dataframe tbody tr th {\n",
       "        vertical-align: top;\n",
       "    }\n",
       "\n",
       "    .dataframe thead th {\n",
       "        text-align: right;\n",
       "    }\n",
       "</style>\n",
       "<table border=\"1\" class=\"dataframe\">\n",
       "  <thead>\n",
       "    <tr style=\"text-align: right;\">\n",
       "      <th></th>\n",
       "      <th>tweet</th>\n",
       "      <th>existence</th>\n",
       "      <th>confidence</th>\n",
       "    </tr>\n",
       "  </thead>\n",
       "  <tbody>\n",
       "    <tr>\n",
       "      <td>0</td>\n",
       "      <td>Global warming report urges governments to act...</td>\n",
       "      <td>Yes</td>\n",
       "      <td>1.0000</td>\n",
       "    </tr>\n",
       "    <tr>\n",
       "      <td>1</td>\n",
       "      <td>Fighting poverty and global warming in Africa ...</td>\n",
       "      <td>Yes</td>\n",
       "      <td>1.0000</td>\n",
       "    </tr>\n",
       "    <tr>\n",
       "      <td>2</td>\n",
       "      <td>Carbon offsets: How a Vatican forest failed to...</td>\n",
       "      <td>Yes</td>\n",
       "      <td>0.8786</td>\n",
       "    </tr>\n",
       "    <tr>\n",
       "      <td>3</td>\n",
       "      <td>Carbon offsets: How a Vatican forest failed to...</td>\n",
       "      <td>Yes</td>\n",
       "      <td>1.0000</td>\n",
       "    </tr>\n",
       "    <tr>\n",
       "      <td>4</td>\n",
       "      <td>URUGUAY: Tools Needed for Those Most Vulnerabl...</td>\n",
       "      <td>Yes</td>\n",
       "      <td>0.8087</td>\n",
       "    </tr>\n",
       "  </tbody>\n",
       "</table>\n",
       "</div>"
      ],
      "text/plain": [
       "                                               tweet existence  confidence\n",
       "0  Global warming report urges governments to act...       Yes      1.0000\n",
       "1  Fighting poverty and global warming in Africa ...       Yes      1.0000\n",
       "2  Carbon offsets: How a Vatican forest failed to...       Yes      0.8786\n",
       "3  Carbon offsets: How a Vatican forest failed to...       Yes      1.0000\n",
       "4  URUGUAY: Tools Needed for Those Most Vulnerabl...       Yes      0.8087"
      ]
     },
     "execution_count": 148,
     "metadata": {},
     "output_type": "execute_result"
    }
   ],
   "source": [
    "df.head()"
   ]
  },
  {
   "cell_type": "code",
   "execution_count": 166,
   "metadata": {},
   "outputs": [
    {
     "name": "stdout",
     "output_type": "stream",
     "text": [
      "Y      2554\n",
      "N      1053\n",
      "Yes     557\n",
      "No       61\n",
      "Name: existence, dtype: int64\n",
      "Sum of nan:\n",
      "1865\n",
      "Y      2554\n",
      "N      1053\n",
      "Yes     557\n",
      "No       61\n",
      "Name: existence, dtype: int64\n",
      "Y    3111\n",
      "N    1114\n",
      "Name: existence, dtype: int64\n"
     ]
    }
   ],
   "source": [
    "print(df.existence.value_counts())\n",
    "print(\"Sum of nan:\")\n",
    "print(df.existence.isna().sum())\n",
    "\n",
    "#Deleting nan value rows\n",
    "df = df[df.existence != 'nan']\n",
    "\n",
    "print(df.existence.value_counts())\n",
    "\n",
    "#Replacing Yes with Y and No with N\n",
    "df['existence'] = df['existence'].replace(['Yes','No'],['Y','N'])\n",
    "print(df.existence.value_counts())"
   ]
  },
  {
   "cell_type": "code",
   "execution_count": 164,
   "metadata": {},
   "outputs": [
    {
     "name": "stdout",
     "output_type": "stream",
     "text": [
      "Sum of nan:\n",
      "1865\n",
      "object\n",
      "object\n",
      "float64\n"
     ]
    }
   ],
   "source": [
    "print(\"Sum of nan:\")\n",
    "print(df.existence.isna().sum())\n",
    "\n",
    "\n",
    "print(df['existence'].dtype)\n",
    "print(df['tweet'].dtype)\n",
    "print(df['confidence'].dtype)"
   ]
  },
  {
   "cell_type": "code",
   "execution_count": 138,
   "metadata": {},
   "outputs": [],
   "source": [
    "train, test = train_test_split(df, test_size=0.2)"
   ]
  },
  {
   "cell_type": "code",
   "execution_count": 139,
   "metadata": {},
   "outputs": [
    {
     "name": "stdout",
     "output_type": "stream",
     "text": [
      "                                                  tweet existence  confidence\n",
      "4402  California Network to Monitor Global-Warming E...         Y      0.7453\n",
      "6077  Bats, Birds and Lizards Can Fight Climate Chan...         Y      1.0000\n",
      "2936  You and Us and Me - Olympics organisers desper...         Y      0.6708\n",
      "110   RT @danlatorre: James Hansen/Heather Rogers, G...         Y      0.7949\n",
      "1418  Health effects are a big deal. RT @EPSclimate:...         Y      1.0000\n",
      "                                                  tweet existence  confidence\n",
      "4489  Earth's polar ice sheets vulnerable to even mo...         Y      1.0000\n",
      "4448  Earth's polar ice sheets vulnerable to even mo...         Y      1.0000\n",
      "2794  \"Even McCain supporters\" support global warmin...         N      1.0000\n",
      "4449  I guess we need to stop saying \"global warming...         Y      1.0000\n",
      "692   Funny how timely oil spill in Gulf and new AZ ...       NaN      0.8049\n"
     ]
    }
   ],
   "source": [
    "print(train.head())\n",
    "print(test.head())"
   ]
  },
  {
   "cell_type": "code",
   "execution_count": 140,
   "metadata": {},
   "outputs": [],
   "source": [
    "import re\n",
    "\n",
    "REPLACE_NO_SPACE = re.compile(\"(\\.)|(\\;)|(\\:)|(\\!)|(\\')|(\\?)|(\\,)|(\\\")|(\\|)|(\\()|(\\))|(\\[)|(\\])|(\\%)|(\\$)|(\\>)|(\\<)|(\\{)|(\\})\")\n",
    "REPLACE_WITH_SPACE = re.compile(\"(<br\\s/><br\\s/?)|(-)|(/)|(:).\")"
   ]
  },
  {
   "cell_type": "code",
   "execution_count": 141,
   "metadata": {},
   "outputs": [],
   "source": [
    "import preprocessor as p\n",
    "\n",
    "\n",
    "def clean_tweets(df):\n",
    "  tempArr = []\n",
    "  for line in df:\n",
    "    tmpL = p.clean(line)\n",
    "    tmpL = REPLACE_NO_SPACE.sub(\"\", tmpL.lower()) \n",
    "    tmpL = REPLACE_WITH_SPACE.sub(\" \", tmpL)\n",
    "    tempArr.append(tmpL)\n",
    "  return tempArr"
   ]
  },
  {
   "cell_type": "code",
   "execution_count": 142,
   "metadata": {},
   "outputs": [],
   "source": [
    "train_tweet = clean_tweets(train[\"tweet\"])\n",
    "train_tweet = pd.DataFrame(train_tweet)"
   ]
  },
  {
   "cell_type": "code",
   "execution_count": 143,
   "metadata": {},
   "outputs": [
    {
     "name": "stderr",
     "output_type": "stream",
     "text": [
      "C:\\Users\\soheb\\Anaconda3\\lib\\site-packages\\ipykernel_launcher.py:1: SettingWithCopyWarning: \n",
      "A value is trying to be set on a copy of a slice from a DataFrame.\n",
      "Try using .loc[row_indexer,col_indexer] = value instead\n",
      "\n",
      "See the caveats in the documentation: http://pandas.pydata.org/pandas-docs/stable/user_guide/indexing.html#returning-a-view-versus-a-copy\n",
      "  \"\"\"Entry point for launching an IPython kernel.\n"
     ]
    },
    {
     "data": {
      "text/html": [
       "<div>\n",
       "<style scoped>\n",
       "    .dataframe tbody tr th:only-of-type {\n",
       "        vertical-align: middle;\n",
       "    }\n",
       "\n",
       "    .dataframe tbody tr th {\n",
       "        vertical-align: top;\n",
       "    }\n",
       "\n",
       "    .dataframe thead th {\n",
       "        text-align: right;\n",
       "    }\n",
       "</style>\n",
       "<table border=\"1\" class=\"dataframe\">\n",
       "  <thead>\n",
       "    <tr style=\"text-align: right;\">\n",
       "      <th></th>\n",
       "      <th>tweet</th>\n",
       "      <th>existence</th>\n",
       "      <th>confidence</th>\n",
       "      <th>clean_tweet</th>\n",
       "    </tr>\n",
       "  </thead>\n",
       "  <tbody>\n",
       "    <tr>\n",
       "      <td>4402</td>\n",
       "      <td>California Network to Monitor Global-Warming E...</td>\n",
       "      <td>Y</td>\n",
       "      <td>0.7453</td>\n",
       "      <td>exactly justin just saw fox say well be gettin...</td>\n",
       "    </tr>\n",
       "    <tr>\n",
       "      <td>6077</td>\n",
       "      <td>Bats, Birds and Lizards Can Fight Climate Chan...</td>\n",
       "      <td>Y</td>\n",
       "      <td>1.0000</td>\n",
       "      <td>NaN</td>\n",
       "    </tr>\n",
       "    <tr>\n",
       "      <td>2936</td>\n",
       "      <td>You and Us and Me - Olympics organisers desper...</td>\n",
       "      <td>Y</td>\n",
       "      <td>0.6708</td>\n",
       "      <td>plants can effectively tackle global warmingdo...</td>\n",
       "    </tr>\n",
       "    <tr>\n",
       "      <td>110</td>\n",
       "      <td>RT @danlatorre: James Hansen/Heather Rogers, G...</td>\n",
       "      <td>Y</td>\n",
       "      <td>0.7949</td>\n",
       "      <td>rt  climate change migration patterns have ch...</td>\n",
       "    </tr>\n",
       "    <tr>\n",
       "      <td>1418</td>\n",
       "      <td>Health effects are a big deal. RT @EPSclimate:...</td>\n",
       "      <td>Y</td>\n",
       "      <td>1.0000</td>\n",
       "      <td>in climate data that suggests global warming a...</td>\n",
       "    </tr>\n",
       "  </tbody>\n",
       "</table>\n",
       "</div>"
      ],
      "text/plain": [
       "                                                  tweet existence  confidence  \\\n",
       "4402  California Network to Monitor Global-Warming E...         Y      0.7453   \n",
       "6077  Bats, Birds and Lizards Can Fight Climate Chan...         Y      1.0000   \n",
       "2936  You and Us and Me - Olympics organisers desper...         Y      0.6708   \n",
       "110   RT @danlatorre: James Hansen/Heather Rogers, G...         Y      0.7949   \n",
       "1418  Health effects are a big deal. RT @EPSclimate:...         Y      1.0000   \n",
       "\n",
       "                                            clean_tweet  \n",
       "4402  exactly justin just saw fox say well be gettin...  \n",
       "6077                                                NaN  \n",
       "2936  plants can effectively tackle global warmingdo...  \n",
       "110    rt  climate change migration patterns have ch...  \n",
       "1418  in climate data that suggests global warming a...  "
      ]
     },
     "execution_count": 143,
     "metadata": {},
     "output_type": "execute_result"
    }
   ],
   "source": [
    "train[\"clean_tweet\"] = train_tweet\n",
    "train.head()\n",
    "\n",
    "\n"
   ]
  },
  {
   "cell_type": "code",
   "execution_count": 144,
   "metadata": {},
   "outputs": [
    {
     "name": "stderr",
     "output_type": "stream",
     "text": [
      "C:\\Users\\soheb\\Anaconda3\\lib\\site-packages\\ipykernel_launcher.py:4: SettingWithCopyWarning: \n",
      "A value is trying to be set on a copy of a slice from a DataFrame.\n",
      "Try using .loc[row_indexer,col_indexer] = value instead\n",
      "\n",
      "See the caveats in the documentation: http://pandas.pydata.org/pandas-docs/stable/user_guide/indexing.html#returning-a-view-versus-a-copy\n",
      "  after removing the cwd from sys.path.\n"
     ]
    },
    {
     "data": {
      "text/html": [
       "<div>\n",
       "<style scoped>\n",
       "    .dataframe tbody tr th:only-of-type {\n",
       "        vertical-align: middle;\n",
       "    }\n",
       "\n",
       "    .dataframe tbody tr th {\n",
       "        vertical-align: top;\n",
       "    }\n",
       "\n",
       "    .dataframe thead th {\n",
       "        text-align: right;\n",
       "    }\n",
       "</style>\n",
       "<table border=\"1\" class=\"dataframe\">\n",
       "  <thead>\n",
       "    <tr style=\"text-align: right;\">\n",
       "      <th></th>\n",
       "      <th>tweet</th>\n",
       "      <th>existence</th>\n",
       "      <th>confidence</th>\n",
       "      <th>clean_tweet</th>\n",
       "    </tr>\n",
       "  </thead>\n",
       "  <tbody>\n",
       "    <tr>\n",
       "      <td>3795</td>\n",
       "      <td>@devhammer unlesss global warming will stop th...</td>\n",
       "      <td>Y</td>\n",
       "      <td>0.6801</td>\n",
       "      <td>NaN</td>\n",
       "    </tr>\n",
       "    <tr>\n",
       "      <td>1815</td>\n",
       "      <td>Climate change and our identity http://bit.ly/...</td>\n",
       "      <td>Y</td>\n",
       "      <td>0.6295</td>\n",
       "      <td>NaN</td>\n",
       "    </tr>\n",
       "    <tr>\n",
       "      <td>365</td>\n",
       "      <td>Leaked U.S. Document Calls For •À_Global Regim...</td>\n",
       "      <td>Y</td>\n",
       "      <td>0.6042</td>\n",
       "      <td>i know you have your beliefs on global warming...</td>\n",
       "    </tr>\n",
       "    <tr>\n",
       "      <td>3312</td>\n",
       "      <td>RT @NWF: BudBurst volunteers needed: to look f...</td>\n",
       "      <td>Y</td>\n",
       "      <td>1.0000</td>\n",
       "      <td>NaN</td>\n",
       "    </tr>\n",
       "    <tr>\n",
       "      <td>4664</td>\n",
       "      <td>Good question! RT @Time_Inc: TIME: Another Bli...</td>\n",
       "      <td>N</td>\n",
       "      <td>1.0000</td>\n",
       "      <td>NaN</td>\n",
       "    </tr>\n",
       "  </tbody>\n",
       "</table>\n",
       "</div>"
      ],
      "text/plain": [
       "                                                  tweet existence  confidence  \\\n",
       "3795  @devhammer unlesss global warming will stop th...         Y      0.6801   \n",
       "1815  Climate change and our identity http://bit.ly/...         Y      0.6295   \n",
       "365   Leaked U.S. Document Calls For •À_Global Regim...         Y      0.6042   \n",
       "3312  RT @NWF: BudBurst volunteers needed: to look f...         Y      1.0000   \n",
       "4664  Good question! RT @Time_Inc: TIME: Another Bli...         N      1.0000   \n",
       "\n",
       "                                            clean_tweet  \n",
       "3795                                                NaN  \n",
       "1815                                                NaN  \n",
       "365   i know you have your beliefs on global warming...  \n",
       "3312                                                NaN  \n",
       "4664                                                NaN  "
      ]
     },
     "execution_count": 144,
     "metadata": {},
     "output_type": "execute_result"
    }
   ],
   "source": [
    "test_tweet = clean_tweets(test[\"tweet\"])\n",
    "test_tweet = pd.DataFrame(test_tweet)\n",
    "# append cleaned tweets to the training data\n",
    "test[\"clean_tweet\"] = test_tweet\n",
    "\n",
    "# compare the cleaned and uncleaned tweets\n",
    "test.tail()"
   ]
  },
  {
   "cell_type": "code",
   "execution_count": null,
   "metadata": {},
   "outputs": [],
   "source": []
  }
 ],
 "metadata": {
  "kernelspec": {
   "display_name": "Python 3",
   "language": "python",
   "name": "python3"
  },
  "language_info": {
   "codemirror_mode": {
    "name": "ipython",
    "version": 3
   },
   "file_extension": ".py",
   "mimetype": "text/x-python",
   "name": "python",
   "nbconvert_exporter": "python",
   "pygments_lexer": "ipython3",
   "version": "3.7.4"
  }
 },
 "nbformat": 4,
 "nbformat_minor": 2
}
